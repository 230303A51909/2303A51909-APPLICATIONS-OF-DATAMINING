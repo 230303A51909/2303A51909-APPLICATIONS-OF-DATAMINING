{
  "nbformat": 4,
  "nbformat_minor": 0,
  "metadata": {
    "colab": {
      "provenance": [],
      "authorship_tag": "ABX9TyOxuv4eycdsLE+kVC6ct8kH",
      "include_colab_link": true
    },
    "kernelspec": {
      "name": "python3",
      "display_name": "Python 3"
    },
    "language_info": {
      "name": "python"
    }
  },
  "cells": [
    {
      "cell_type": "markdown",
      "metadata": {
        "id": "view-in-github",
        "colab_type": "text"
      },
      "source": [
        "<a href=\"https://colab.research.google.com/github/230303A51909/2303A51909-APPLICATIONS-OF-DATAMINING/blob/main/RL_lab1.ipynb\" target=\"_parent\"><img src=\"https://colab.research.google.com/assets/colab-badge.svg\" alt=\"Open In Colab\"/></a>"
      ]
    },
    {
      "cell_type": "code",
      "execution_count": null,
      "metadata": {
        "colab": {
          "base_uri": "https://localhost:8080/"
        },
        "id": "LQw2EsmqxGEf",
        "outputId": "59608c9a-1066-498a-a577-663eb03185f2"
      },
      "outputs": [
        {
          "output_type": "stream",
          "name": "stdout",
          "text": [
            "=== Policy Iteration ===\n",
            "['U', 'L', 'L', 'D']\n",
            "['U', 'U', 'U', 'D']\n",
            "['U', 'U', 'D', 'D']\n",
            "['U', 'R', 'R', 'U']\n",
            "\n",
            "=== Value Iteration ===\n",
            "['U', 'L', 'L', 'D']\n",
            "['U', 'U', 'U', 'D']\n",
            "['U', 'U', 'D', 'D']\n",
            "['U', 'R', 'R', 'U']\n"
          ]
        }
      ],
      "source": [
        "import numpy as np\n",
        "\n",
        "# GridWorld parameters\n",
        "grid_size = 4\n",
        "states = [(i, j) for i in range(grid_size) for j in range(grid_size)]\n",
        "actions = ['U', 'D', 'L', 'R']\n",
        "gamma = 0.9  # Discount factor\n",
        "theta = 1e-4  # Convergence threshold\n",
        "\n",
        "# Transition dynamics\n",
        "def step(state, action):\n",
        "    i, j = state\n",
        "    if state in [(0, 0), (3, 3)]:\n",
        "        return state, 0  # Terminal state\n",
        "    if action == 'U':\n",
        "        i = max(i - 1, 0)\n",
        "    elif action == 'D':\n",
        "        i = min(i + 1, grid_size - 1)\n",
        "    elif action == 'L':\n",
        "        j = max(j - 1, 0)\n",
        "    elif action == 'R':\n",
        "        j = min(j + 1, grid_size - 1)\n",
        "    return (i, j), -1\n",
        "\n",
        "# Initialize policy and value function\n",
        "policy = {s: np.random.choice(actions) for s in states}\n",
        "V = {s: 0 for s in states}\n",
        "\n",
        "# POLICY EVALUATION\n",
        "def policy_evaluation(policy, V):\n",
        "    while True:\n",
        "        delta = 0\n",
        "        for s in states:\n",
        "            v = V[s]\n",
        "            a = policy[s]\n",
        "            next_state, reward = step(s, a)\n",
        "            V[s] = reward + gamma * V[next_state]\n",
        "            delta = max(delta, abs(v - V[s]))\n",
        "        if delta < theta:\n",
        "            break\n",
        "    return V\n",
        "\n",
        "# POLICY IMPROVEMENT\n",
        "def policy_improvement(V):\n",
        "    policy_stable = True\n",
        "    for s in states:\n",
        "        old_action = policy[s]\n",
        "        action_values = {}\n",
        "        for a in actions:\n",
        "            next_state, reward = step(s, a)\n",
        "            action_values[a] = reward + gamma * V[next_state]\n",
        "        best_action = max(action_values, key=action_values.get)\n",
        "        policy[s] = best_action\n",
        "        if old_action != best_action:\n",
        "            policy_stable = False\n",
        "    return policy, policy_stable\n",
        "\n",
        "# POLICY ITERATION\n",
        "def policy_iteration():\n",
        "    global V, policy\n",
        "    while True:\n",
        "        V = policy_evaluation(policy, V)\n",
        "        policy, stable = policy_improvement(V)\n",
        "        if stable:\n",
        "            break\n",
        "    return policy, V\n",
        "\n",
        "# VALUE ITERATION\n",
        "def value_iteration():\n",
        "    V = {s: 0 for s in states}\n",
        "    policy = {s: actions[0] for s in states}\n",
        "    while True:\n",
        "        delta = 0\n",
        "        for s in states:\n",
        "            if s in [(0, 0), (3, 3)]:\n",
        "                continue\n",
        "            action_values = {}\n",
        "            for a in actions:\n",
        "                next_state, reward = step(s, a)\n",
        "                action_values[a] = reward + gamma * V[next_state]\n",
        "            max_value = max(action_values.values())\n",
        "            delta = max(delta, abs(V[s] - max_value))\n",
        "            V[s] = max_value\n",
        "            policy[s] = max(action_values, key=action_values.get)\n",
        "        if delta < theta:\n",
        "            break\n",
        "    return policy, V\n",
        "\n",
        "# Run Policy Iteration\n",
        "print(\"=== Policy Iteration ===\")\n",
        "policy_pi, V_pi = policy_iteration()\n",
        "for i in range(grid_size):\n",
        "    print([policy_pi[(i, j)] for j in range(grid_size)])\n",
        "\n",
        "# Run Value Iteration\n",
        "print(\"\\n=== Value Iteration ===\")\n",
        "policy_vi, V_vi = value_iteration()\n",
        "for i in range(grid_size):\n",
        "    print([policy_vi[(i, j)] for j in range(grid_size)])\n"
      ]
    }
  ]
}